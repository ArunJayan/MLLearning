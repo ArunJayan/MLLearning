{
 "cells": [
  {
   "cell_type": "markdown",
   "metadata": {},
   "source": [
    "Linear Algebra is branch of mathematics , which is widely used in Science and Engineering . "
   ]
  },
  {
   "cell_type": "markdown",
   "metadata": {},
   "source": [
    "Linear algebra contains different types of objects **Scalars , Vectors , Matrices and Tensors **"
   ]
  },
  {
   "cell_type": "markdown",
   "metadata": {},
   "source": [
    "![](images/img1.png)"
   ]
  },
  {
   "cell_type": "markdown",
   "metadata": {},
   "source": [
    ">**Scalars** : \n",
    "> \n",
    "    Scalar is single number \n",
    "    \n",
    ">**Vector** : \n",
    ">\n",
    "    Vector is array of numbers \n",
    "    \n",
    ">**Matrices** : \n",
    ">\n",
    "    A matrix is 2-Dimensional  array of numbers . \n",
    "\n",
    ">**Tensor** : \n",
    ">\n",
    "    A Tensor is multi-dimensional array of numbers "
   ]
  },
  {
   "cell_type": "code",
   "execution_count": 3,
   "metadata": {},
   "outputs": [
    {
     "name": "stdout",
     "output_type": "stream",
     "text": [
      "Scalar :  11\n",
      "--------------------------------------------------------------------------------\n",
      "row vector : [5 3 7] -- shape=(3,) dimension = 1\n",
      "column vector : \n",
      "[[5. ]\n",
      " [1.5]\n",
      " [2. ]] \n",
      "shape=(3, 1) dimension = 2\n",
      "--------------------------------------------------------------------------------\n",
      "matrix\n",
      "[[1 2 3]\n",
      " [5 6 7]\n",
      " [0 1 0]]\n",
      "(3, 3)\n",
      "2\n"
     ]
    }
   ],
   "source": [
    "import numpy as np \n",
    "\n",
    "## Example for scalar \n",
    "s = 11\n",
    "print(\"Scalar : \",s)\n",
    "print(\"--------\"*10)\n",
    "# Example for vector \n",
    "# row vector \n",
    "rv = np.array([5,3,7])\n",
    "print(\"row vector : {0} -- shape={1} dimension = {2}\".format(rv,rv.shape,rv.ndim))\n",
    "#column vector \n",
    "cv = np.array([[5],[1.5],[2]])\n",
    "print(\"column vector : \\n{0} \\nshape={1} dimension = {2}\".format(cv,cv.shape,cv.ndim))\n",
    "\n",
    "print(\"--------\"*10)\n",
    "## Example for matrices \n",
    "A = np.array([[1,2,3],[5,6,7],[0,1,0]])\n",
    "print(\"matrix\")\n",
    "print(A)\n",
    "print(A.shape)\n",
    "print(A.ndim)"
   ]
  },
  {
   "cell_type": "markdown",
   "metadata": {},
   "source": [
    "## Transposition\n",
    "An important operation on matrices , vectors . The transpose of matrix is the mirror image of the matrix across the diagonal axis \n",
    "\n",
    "We donote Transpose of matrix **A** as ${A}^{\\text{T}}$ and it defined as (${A}^{\\text{T}})_{i,j} = {A}_{j,i}$\n",
    "\n",
    "if the shape of the matrix is (m x n) after transpose it become (n x m)"
   ]
  },
  {
   "cell_type": "code",
   "execution_count": 4,
   "metadata": {},
   "outputs": [
    {
     "name": "stdout",
     "output_type": "stream",
     "text": [
      "[[0]\n",
      " [1]\n",
      " [2]\n",
      " [3]\n",
      " [4]]\n",
      "<class 'numpy.ndarray'>\n",
      "(5, 1)\n",
      "2\n",
      "[[0 1 2 3 4]]\n",
      "2\n",
      "(1, 5)\n"
     ]
    }
   ],
   "source": [
    "## Tranposition \n",
    "# We can convert a row vector to column vector using transposition \n",
    "# Suppose we have a column matrix called v\n",
    "v = np.array(list([i] for i in range(5)))\n",
    "print(v)\n",
    "print(type(v))\n",
    "print(v.shape)\n",
    "print(v.ndim)\n",
    "# Now we can convert this column vector into a row vector \n",
    "r = v.T\n",
    "print(r)\n",
    "print(r.ndim)\n",
    "print(r.shape)"
   ]
  },
  {
   "cell_type": "code",
   "execution_count": 9,
   "metadata": {},
   "outputs": [
    {
     "name": "stdout",
     "output_type": "stream",
     "text": [
      "[[ 1  2  3  4]\n",
      " [ 4  5  6  7]\n",
      " [10 20  5  6]\n",
      " [10 15 25 35]]\n",
      "2\n",
      "(4, 4)\n",
      "[[ 1  4 10 10]\n",
      " [ 2  5 20 15]\n",
      " [ 3  6  5 25]\n",
      " [ 4  7  6 35]]\n",
      "shape of A : (4, 4) and shape of  A.T:(4, 4)\n",
      "[[2 3 4]\n",
      " [5 6 7]\n",
      " [8 9 0]\n",
      " [4 5 6]]\n",
      "[[2 5 8 4]\n",
      " [3 6 9 5]\n",
      " [4 7 0 6]]\n",
      "shape of A : (4, 4) and shape of  A.T:(4, 4)\n"
     ]
    }
   ],
   "source": [
    "# We could apply transpose on 2-D matrix also \n",
    "# Suppose we have 4 x 4 matrix \n",
    "A = np.array([[1,2,3,4],[4,5,6,7],[10,20,5,6],[10,15,25,35]])\n",
    "print(A)\n",
    "print(A.ndim)\n",
    "print(A.shape)\n",
    "print(A.T)\n",
    "print(\"shape of A : {0} and shape of  A.T:{1}\".format(A.shape,A.T.shape))\n",
    "\n",
    "B = np.array([[2,3,4],[5,6,7],[8,9,0],[4,5,6]])\n",
    "print(B)\n",
    "print(B.T)\n",
    "print(\"shape of A : {0} and shape of  A.T:{1}\".format(A.shape,A.T.shape))"
   ]
  },
  {
   "cell_type": "code",
   "execution_count": 5,
   "metadata": {},
   "outputs": [
    {
     "data": {
      "text/plain": [
       "array([5])"
      ]
     },
     "execution_count": 5,
     "metadata": {},
     "output_type": "execute_result"
    }
   ],
   "source": [
    "## Transpose of Scalar \n",
    "# If we consider Scalar as a vector with only one value \n",
    "s = np.array([5])\n",
    "s.T"
   ]
  },
  {
   "cell_type": "markdown",
   "metadata": {},
   "source": [
    "### Addition, Substraction and Multiplication"
   ]
  },
  {
   "cell_type": "code",
   "execution_count": 15,
   "metadata": {},
   "outputs": [
    {
     "name": "stdout",
     "output_type": "stream",
     "text": [
      "25\n",
      "-5\n",
      "150\n",
      "[ 1  3  9 13]\n",
      "[-1 -1  3  5]\n"
     ]
    }
   ],
   "source": [
    "## Scalar is a number so we  could add substract just like we don it normally \n",
    "# suppose we have 2 scalar s1,s2\n",
    "s1 = 10 \n",
    "s2 = 15\n",
    "#addition\n",
    "print(s1+s2)\n",
    "#substraction\n",
    "print(s1-s2)\n",
    "# multiplication \n",
    "print(s1*s2)"
   ]
  },
  {
   "cell_type": "code",
   "execution_count": 25,
   "metadata": {},
   "outputs": [
    {
     "name": "stdout",
     "output_type": "stream",
     "text": [
      "[ 1  3  9 13]\n",
      "[-1 -1  3  5]\n",
      "[[10]\n",
      " [20]\n",
      " [ 3]\n",
      " [ 5]]\n"
     ]
    }
   ],
   "source": [
    "# now we could consider a 2 row vector \n",
    "v1 = np.array([1,2,3,4])\n",
    "v2 = np.array([0,1,6,9])\n",
    "\n",
    "# Now we can add 2 row vector \n",
    "print(v1+v2)\n",
    "# now we can substract vector v1 from v2 \n",
    "print(v2-v1)\n",
    "\n",
    "# Now we have a column vector \n",
    "v3 = np.array([[10],[20],[3],[5]])\n",
    "print(v3)"
   ]
  },
  {
   "cell_type": "code",
   "execution_count": 32,
   "metadata": {},
   "outputs": [
    {
     "name": "stdout",
     "output_type": "stream",
     "text": [
      "[[ -9 -18   0  -1]]\n",
      "[11 12 13 14]\n",
      "[-10  -9  -4  -1]\n",
      "[10 20 30 40]\n",
      "[0.1 0.2 0.3 0.4]\n"
     ]
    }
   ],
   "source": [
    "print(v1-v3.T)\n",
    "\n",
    "# add a scalar to vector \n",
    "print(s1 + v1)\n",
    "print(v2 - s1)\n",
    "print(s1*v1)\n",
    "print(v1/s1)"
   ]
  },
  {
   "cell_type": "code",
   "execution_count": 35,
   "metadata": {},
   "outputs": [
    {
     "name": "stdout",
     "output_type": "stream",
     "text": [
      "[[ 3  4  5]\n",
      " [11 13 14]]\n",
      "[[1 2 3]\n",
      " [1 3 4]]\n"
     ]
    }
   ],
   "source": [
    "# consider a matrix \n",
    "A = np.array([[2,3,4],[6,8,9]])\n",
    "B = np.array([[1,1,1],[5,5,5]])\n",
    "print(A+B)\n",
    "print(A-B)"
   ]
  },
  {
   "cell_type": "code",
   "execution_count": 37,
   "metadata": {},
   "outputs": [
    {
     "name": "stdout",
     "output_type": "stream",
     "text": [
      "[[ 2  3  4]\n",
      " [30 40 45]]\n"
     ]
    }
   ],
   "source": [
    "print(A*B)\n",
    "# this will perform element wise mulitiplication"
   ]
  },
  {
   "cell_type": "markdown",
   "metadata": {},
   "source": [
    "$$\n",
    "\\begin{bmatrix}\n",
    "    A_{1,1} & A_{1,2} & A_{1,3}\\\\\\\\\n",
    "    A_{2,1} & A_{2,2} & A_{2,3}\n",
    "\\end{bmatrix}+\n",
    "\\begin{bmatrix}\n",
    "    B_{1,1} & B_{1,2} & B_{1,3}\\\\\\\\\n",
    "    B_{2,1} & B_{2,2} & B_{2,3}\n",
    "\\end{bmatrix}=\n",
    "\\begin{bmatrix}\n",
    "    A_{1,1} x B_{1,1} & A_{1,2} x B_{1,2} & A_{1,3} x B_{1,3} \\\\\\\\\n",
    "    A_{2,1} x B_{2,1} & A_{2,2} x B_{2,2} & A_{2,3} x B_{2,3}\n",
    "\\end{bmatrix}\n",
    "$$"
   ]
  },
  {
   "cell_type": "markdown",
   "metadata": {},
   "source": [
    "** Matrix Multiplication **\n",
    "\n",
    "The matrix product of matrices A and B is a third matrix C. In order for this product to be defined, A must have the same number of columns as  B has rows. If A is of shape m × n and B is of shape n × p , then C is of shape\n",
    "m × p . We can write the matrix product just by placing two or more matrices together, e.g.\n",
    "\n",
    "C = AB \n",
    "      \n",
    "${C}_{i,j}  =  \\sum\\limits_{k} {A}_{i,k} {B}_{k,j} $\n",
    "\n",
    "- Standard product of two matrices is not just a matrix containing the product of the individual elements"
   ]
  },
  {
   "cell_type": "code",
   "execution_count": 41,
   "metadata": {},
   "outputs": [
    {
     "ename": "ValueError",
     "evalue": "shapes (2,3) and (2,3) not aligned: 3 (dim 1) != 2 (dim 0)",
     "output_type": "error",
     "traceback": [
      "\u001b[0;31m-------------------------------------------------------------------------\u001b[0m",
      "\u001b[0;31mValueError\u001b[0m                              Traceback (most recent call last)",
      "\u001b[0;32m<ipython-input-41-486eafc491cf>\u001b[0m in \u001b[0;36m<module>\u001b[0;34m\u001b[0m\n\u001b[0;32m----> 1\u001b[0;31m \u001b[0mnp\u001b[0m\u001b[0;34m.\u001b[0m\u001b[0mdot\u001b[0m\u001b[0;34m(\u001b[0m\u001b[0mA\u001b[0m\u001b[0;34m,\u001b[0m\u001b[0mB\u001b[0m\u001b[0;34m)\u001b[0m\u001b[0;34m\u001b[0m\u001b[0;34m\u001b[0m\u001b[0m\n\u001b[0m\u001b[1;32m      2\u001b[0m \u001b[0;31m# to perform matrix multiplication\u001b[0m\u001b[0;34m\u001b[0m\u001b[0;34m\u001b[0m\u001b[0;34m\u001b[0m\u001b[0m\n\u001b[1;32m      3\u001b[0m \u001b[0;31m# becoz we can not multiply a (2,3) matrix with another (2,3) matrix\u001b[0m\u001b[0;34m\u001b[0m\u001b[0;34m\u001b[0m\u001b[0;34m\u001b[0m\u001b[0m\n\u001b[1;32m      4\u001b[0m \u001b[0;31m# suppose Matrix A dimension is mxn and B is dimension is nxp\u001b[0m\u001b[0;34m\u001b[0m\u001b[0;34m\u001b[0m\u001b[0;34m\u001b[0m\u001b[0m\n\u001b[1;32m      5\u001b[0m \u001b[0;31m# to multiply two matrix the condition is : number of columns of A == number of rows of B\u001b[0m\u001b[0;34m\u001b[0m\u001b[0;34m\u001b[0m\u001b[0;34m\u001b[0m\u001b[0m\n",
      "\u001b[0;32m<__array_function__ internals>\u001b[0m in \u001b[0;36mdot\u001b[0;34m(*args, **kwargs)\u001b[0m\n",
      "\u001b[0;31mValueError\u001b[0m: shapes (2,3) and (2,3) not aligned: 3 (dim 1) != 2 (dim 0)"
     ]
    }
   ],
   "source": [
    "np.dot(A,B) \n",
    "# to perform matrix multiplication \n",
    "# becoz we can not multiply a (2,3) matrix with another (2,3) matrix \n",
    "# suppose Matrix A dimension is mxn and B is dimension is nxp\n",
    "# to multiply two matrix the condition is : number of columns of A == number of rows of B\n",
    "# and the dimension of output will be mxp"
   ]
  },
  {
   "cell_type": "code",
   "execution_count": 40,
   "metadata": {},
   "outputs": [
    {
     "name": "stdout",
     "output_type": "stream",
     "text": [
      "[[  9  45]\n",
      " [ 23 115]]\n",
      "(2, 2)\n"
     ]
    }
   ],
   "source": [
    "# now we transpose matrix B\n",
    "# and then perform the multiplication \n",
    "# so when we transpose matrix B its shape becomes 2 x 3 from (3 x 2)\n",
    "# So now the condition is satisfied \n",
    "# now we can perform multiplication\n",
    "C = np.dot(A,B.T)\n",
    "# we are multiplying ( 2 x 3 ) matrix with ( 3 x 2) matrix \n",
    "# so the output dimension will be ( 2 x 2)\n",
    "print(C)\n",
    "print(C.shape)"
   ]
  },
  {
   "cell_type": "code",
   "execution_count": null,
   "metadata": {},
   "outputs": [],
   "source": []
  }
 ],
 "metadata": {
  "kernelspec": {
   "display_name": "Python 3",
   "language": "python",
   "name": "python3"
  },
  "language_info": {
   "codemirror_mode": {
    "name": "ipython",
    "version": 3
   },
   "file_extension": ".py",
   "mimetype": "text/x-python",
   "name": "python",
   "nbconvert_exporter": "python",
   "pygments_lexer": "ipython3",
   "version": "3.6.9"
  }
 },
 "nbformat": 4,
 "nbformat_minor": 2
}
