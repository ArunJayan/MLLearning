{
 "cells": [
  {
   "cell_type": "markdown",
   "metadata": {},
   "source": [
    "Linear Algebra is branch of mathematics , which is widely used in Science and Engineering . "
   ]
  },
  {
   "cell_type": "markdown",
   "metadata": {},
   "source": [
    "Linear algebra contains different types of objects **Scalars , Vectors , Matrices and Tensors **"
   ]
  },
  {
   "cell_type": "markdown",
   "metadata": {},
   "source": [
    "![](images/img1.png)"
   ]
  },
  {
   "cell_type": "markdown",
   "metadata": {},
   "source": [
    ">**Scalars** : \n",
    "> \n",
    "    Scalar is single number \n",
    "    \n",
    ">**Vector** : \n",
    ">\n",
    "    Vector is array of numbers \n",
    "    \n",
    ">**Matrices** : \n",
    ">\n",
    "    A matrix is 2-Dimensional  array of numbers . \n",
    "\n",
    ">**Tensor** : \n",
    ">\n",
    "    A Tensor is multi-dimensional array of numbers "
   ]
  },
  {
   "cell_type": "code",
   "execution_count": 24,
   "metadata": {},
   "outputs": [
    {
     "name": "stdout",
     "output_type": "stream",
     "text": [
      "Scalar :  11\n",
      "--------------------------------------------------------------------------------\n",
      "row vector : [5 3 7] -- shape=(3,) dimension = 1\n",
      "column vector : \n",
      "[[5. ]\n",
      " [1.5]\n",
      " [2. ]] \n",
      "shape=(3, 1) dimension = 2\n",
      "--------------------------------------------------------------------------------\n",
      "matrix\n",
      "[[1 2 3]\n",
      " [5 6 7]\n",
      " [0 1 0]]\n",
      "(3, 3)\n",
      "2\n"
     ]
    }
   ],
   "source": [
    "import numpy as np \n",
    "\n",
    "## Example for scalar \n",
    "s = 11\n",
    "print(\"Scalar : \",s)\n",
    "print(\"--------\"*10)\n",
    "# Example for vector \n",
    "# row vector \n",
    "rv = np.array([5,3,7])\n",
    "print(\"row vector : {0} -- shape={1} dimension = {2}\".format(rv,rv.shape,rv.ndim))\n",
    "#column vector \n",
    "cv = np.array([[5],[1.5],[2]])\n",
    "print(\"column vector : \\n{0} \\nshape={1} dimension = {2}\".format(cv,cv.shape,cv.ndim))\n",
    "\n",
    "print(\"--------\"*10)\n",
    "## Example for matrices \n",
    "A = np.array([[1,2,3],[5,6,7],[0,1,0]])\n",
    "print(\"matrix\")\n",
    "print(A)\n",
    "print(A.shape)\n",
    "print(A.ndim)"
   ]
  },
  {
   "cell_type": "code",
   "execution_count": 33,
   "metadata": {},
   "outputs": [
    {
     "name": "stdout",
     "output_type": "stream",
     "text": [
      "[[0]\n",
      " [1]\n",
      " [2]\n",
      " [3]\n",
      " [4]]\n",
      "<class 'numpy.ndarray'>\n",
      "(5, 1)\n",
      "2\n",
      "[[0 1 2 3 4]]\n",
      "2\n",
      "(1, 5)\n"
     ]
    }
   ],
   "source": [
    "## Tranposition \n",
    "# We can convert a row vector to column vector using transposition \n",
    "# Suppose we have a column matrix called v\n",
    "v = np.array(list([i] for i in range(5)))\n",
    "print(v)\n",
    "print(type(v))\n",
    "print(v.shape)\n",
    "print(v.ndim)\n",
    "# Now we can convert this column vector into a row vector \n",
    "r = v.T\n",
    "print(r)\n",
    "print(r.ndim)\n",
    "print(r.shape)"
   ]
  },
  {
   "cell_type": "code",
   "execution_count": 38,
   "metadata": {},
   "outputs": [
    {
     "name": "stdout",
     "output_type": "stream",
     "text": [
      "[[ 1  2  3  4]\n",
      " [ 4  5  6  7]\n",
      " [10 20  5  6]\n",
      " [10 15 25 35]]\n",
      "2\n",
      "(4, 4)\n",
      "[[ 1  4 10 10]\n",
      " [ 2  5 20 15]\n",
      " [ 3  6  5 25]\n",
      " [ 4  7  6 35]]\n"
     ]
    }
   ],
   "source": [
    "# We could apply transpose on 2-D matrix also \n",
    "# Suppose we have 4 x 4 matrix \n",
    "A = np.array([[1,2,3,4],[4,5,6,7],[10,20,5,6],[10,15,25,35]])\n",
    "print(A)\n",
    "print(A.ndim)\n",
    "print(A.shape)\n",
    "print(A.T)"
   ]
  },
  {
   "cell_type": "code",
   "execution_count": null,
   "metadata": {},
   "outputs": [],
   "source": []
  }
 ],
 "metadata": {
  "kernelspec": {
   "display_name": "Python 3",
   "language": "python",
   "name": "python3"
  },
  "language_info": {
   "codemirror_mode": {
    "name": "ipython",
    "version": 3
   },
   "file_extension": ".py",
   "mimetype": "text/x-python",
   "name": "python",
   "nbconvert_exporter": "python",
   "pygments_lexer": "ipython3",
   "version": "3.6.9"
  }
 },
 "nbformat": 4,
 "nbformat_minor": 2
}
