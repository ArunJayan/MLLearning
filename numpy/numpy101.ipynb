{
 "cells": [
  {
   "cell_type": "code",
   "execution_count": 1,
   "metadata": {},
   "outputs": [],
   "source": [
    "# Numpy is Numerical Python \n",
    "# its one of the powerful numerical library \n",
    "# there is no array or matrix kinds of structure no in python\n",
    "# But using numpy we can have those features "
   ]
  },
  {
   "cell_type": "code",
   "execution_count": 2,
   "metadata": {},
   "outputs": [],
   "source": [
    "# First import nmpy package \n",
    "import numpy as np"
   ]
  },
  {
   "cell_type": "code",
   "execution_count": 3,
   "metadata": {},
   "outputs": [
    {
     "name": "stdout",
     "output_type": "stream",
     "text": [
      "list - [10, 20, 30] - <class 'list'>\n",
      "array - [10 20 30] - <class 'numpy.ndarray'>\n"
     ]
    }
   ],
   "source": [
    "# create a simple array \n",
    "np.array([1,2,3]) \n",
    "# syntax is something like \n",
    "# np.array(python-list)\n",
    "# Suppose we have list \n",
    "a = [10,20,30]\n",
    "# Now we can convert into an array \n",
    "array = np.array(a)\n",
    "print('list - {0} - {1}\\narray - {2} - {3}'.format(a,type(a),array,type(array)))\n",
    "# Now we can see the difference in the datatype "
   ]
  },
  {
   "cell_type": "code",
   "execution_count": 4,
   "metadata": {},
   "outputs": [
    {
     "data": {
      "text/plain": [
       "array([2., 4., 5.])"
      ]
     },
     "execution_count": 4,
     "metadata": {},
     "output_type": "execute_result"
    }
   ],
   "source": [
    "np.array([2,4,5.0])\n",
    "# one element is float and other two is int \n",
    "# so all the element converted into float . \n",
    "# this is called upcast  "
   ]
  },
  {
   "cell_type": "code",
   "execution_count": 5,
   "metadata": {},
   "outputs": [],
   "source": [
    "# one dimensional array \n",
    "a1 = np.array([1,2,3])\n",
    "# two dimension array \n",
    "a2 = np.array([[1,2,3],[5,6,7]])"
   ]
  },
  {
   "cell_type": "code",
   "execution_count": 6,
   "metadata": {},
   "outputs": [
    {
     "name": "stdout",
     "output_type": "stream",
     "text": [
      "[1 2 3]\n",
      "1\n",
      "[[1 2 3]\n",
      " [5 6 7]]\n",
      "2\n"
     ]
    }
   ],
   "source": [
    "print(a1)\n",
    "print(a1.ndim)\n",
    "\n",
    "print(a2)\n",
    "print(a2.ndim)"
   ]
  },
  {
   "cell_type": "code",
   "execution_count": 7,
   "metadata": {},
   "outputs": [
    {
     "data": {
      "text/plain": [
       "array([[1, 2, 3]])"
      ]
     },
     "execution_count": 7,
     "metadata": {},
     "output_type": "execute_result"
    }
   ],
   "source": [
    "a2 = np.array([1,2,3],ndmin=2)\n",
    "a2"
   ]
  },
  {
   "cell_type": "code",
   "execution_count": 8,
   "metadata": {},
   "outputs": [
    {
     "name": "stdout",
     "output_type": "stream",
     "text": [
      "2\n"
     ]
    }
   ],
   "source": [
    "print(a2.ndim)"
   ]
  },
  {
   "cell_type": "code",
   "execution_count": 9,
   "metadata": {},
   "outputs": [
    {
     "data": {
      "text/plain": [
       "array([1.+0.j, 5.+0.j, 6.+0.j])"
      ]
     },
     "execution_count": 9,
     "metadata": {},
     "output_type": "execute_result"
    }
   ],
   "source": [
    "# Now we can create numpy array with complex number \n",
    "np.array([1,5,6],dtype=complex)\n",
    "# here no imaginary part thats why imaginary part is zero "
   ]
  },
  {
   "cell_type": "code",
   "execution_count": 10,
   "metadata": {},
   "outputs": [
    {
     "data": {
      "text/plain": [
       "array([1.+0.j, 2.+0.j, 3.+0.j, 4.+2.j])"
      ]
     },
     "execution_count": 10,
     "metadata": {},
     "output_type": "execute_result"
    }
   ],
   "source": [
    "np.array([ 1,2,3,4+2j ])\n",
    "# here first 3 elements in integer but the last element of array \n",
    "# is a complex number so alll other element converted into \n",
    "# complex number with imaginary part as zero \n",
    "# (upcasting)"
   ]
  },
  {
   "cell_type": "code",
   "execution_count": 11,
   "metadata": {},
   "outputs": [
    {
     "data": {
      "text/plain": [
       "array([(1, 2), (3, 4)], dtype=[('a', '<i4'), ('b', '<i8')])"
      ]
     },
     "execution_count": 11,
     "metadata": {},
     "output_type": "execute_result"
    }
   ],
   "source": [
    "# Data type consisting more than one element \n",
    "x = np.array( [(1,2),(3,4) ] , dtype=[('a','<i4'),('b','<i8')] )\n",
    "# here the mapping is like \n",
    "\n",
    "# i2 - 16 bit int \n",
    "# i4 - 32 bit int \n",
    "# i8 - 64bit int\n",
    "x"
   ]
  },
  {
   "cell_type": "code",
   "execution_count": 12,
   "metadata": {},
   "outputs": [
    {
     "name": "stdout",
     "output_type": "stream",
     "text": [
      "[1 3]\n",
      "<class 'numpy.int32'>\n"
     ]
    }
   ],
   "source": [
    "print(x['a'])\n",
    "print(type(x['a'][0])) # we set type of a as int32 bit "
   ]
  },
  {
   "cell_type": "code",
   "execution_count": 13,
   "metadata": {},
   "outputs": [
    {
     "name": "stdout",
     "output_type": "stream",
     "text": [
      "[2 4]\n",
      "<class 'numpy.int64'>\n"
     ]
    }
   ],
   "source": [
    "print(x['b'])\n",
    "print(type(x['b'][0]))"
   ]
  },
  {
   "cell_type": "code",
   "execution_count": 14,
   "metadata": {},
   "outputs": [
    {
     "data": {
      "text/plain": [
       "matrix([[1, 2],\n",
       "        [3, 4]])"
      ]
     },
     "execution_count": 14,
     "metadata": {},
     "output_type": "execute_result"
    }
   ],
   "source": [
    "# Numpy matrix \n",
    "# The mat() function is used to interpret a given input as a matrix.\n",
    "np.mat('1 2; 3 4')"
   ]
  },
  {
   "cell_type": "code",
   "execution_count": 15,
   "metadata": {},
   "outputs": [
    {
     "data": {
      "text/plain": [
       "matrix([[1, 2],\n",
       "        [3, 4]])"
      ]
     },
     "execution_count": 15,
     "metadata": {},
     "output_type": "execute_result"
    }
   ],
   "source": [
    "np.mat([[1,2],[3,4]])"
   ]
  },
  {
   "cell_type": "code",
   "execution_count": 16,
   "metadata": {},
   "outputs": [
    {
     "name": "stdout",
     "output_type": "stream",
     "text": [
      "[[1 2]\n",
      " [3 4]]\n",
      "<class 'numpy.matrix'>\n",
      "int64\n",
      "2\n",
      "[[[1 2]\n",
      "  [3 4]]]\n",
      "<class 'numpy.ndarray'>\n",
      "int64\n",
      "3\n"
     ]
    }
   ],
   "source": [
    "# the main difference between numpy array and matrix is \n",
    "# numpy matrix is 2 -dimensional \n",
    "# while numpy are N-dimensional\n",
    "m = np.mat('1 2;3 4')\n",
    "print(m)\n",
    "print(type(m))\n",
    "print(m.dtype)\n",
    "print(m.ndim)\n",
    "\n",
    "# convert the matrix into 3-Dimensional array \n",
    "array = np.array(m,ndmin=3)\n",
    "print(array)\n",
    "print(type(array))\n",
    "print(array.dtype)\n",
    "print(array.ndim)"
   ]
  },
  {
   "cell_type": "code",
   "execution_count": 30,
   "metadata": {},
   "outputs": [
    {
     "name": "stdout",
     "output_type": "stream",
     "text": [
      "<class 'numpy.matrix'>\n",
      "<class 'numpy.ndarray'>\n",
      "[[1 2]\n",
      " [7 8]]\n",
      "2\n",
      "140232996924032\n"
     ]
    }
   ],
   "source": [
    "a = np.mat([[1,2],[7,8]])\n",
    "print(type(a))\n",
    "#convert  this into array using np.asarray\n",
    "b = np.asarray(a)\n",
    "print(type(b))\n",
    "print(b)\n",
    "print(b.ndim)\n",
    "print(id(b))"
   ]
  },
  {
   "cell_type": "code",
   "execution_count": 35,
   "metadata": {},
   "outputs": [],
   "source": [
    "# convert a list into array \n",
    "a = [1,2]"
   ]
  },
  {
   "cell_type": "code",
   "execution_count": 36,
   "metadata": {},
   "outputs": [
    {
     "data": {
      "text/plain": [
       "array([1, 2])"
      ]
     },
     "execution_count": 36,
     "metadata": {},
     "output_type": "execute_result"
    }
   ],
   "source": [
    "np.asarray(a)"
   ]
  },
  {
   "cell_type": "code",
   "execution_count": 37,
   "metadata": {},
   "outputs": [
    {
     "data": {
      "text/plain": [
       "array([1, 2])"
      ]
     },
     "execution_count": 37,
     "metadata": {},
     "output_type": "execute_result"
    }
   ],
   "source": [
    "a = np.array([1,2])\n",
    "a"
   ]
  },
  {
   "cell_type": "code",
   "execution_count": 38,
   "metadata": {},
   "outputs": [
    {
     "data": {
      "text/plain": [
       "True"
      ]
     },
     "execution_count": 38,
     "metadata": {},
     "output_type": "execute_result"
    }
   ],
   "source": [
    "np.asarray(a) is a "
   ]
  },
  {
   "cell_type": "code",
   "execution_count": null,
   "metadata": {},
   "outputs": [],
   "source": []
  }
 ],
 "metadata": {
  "kernelspec": {
   "display_name": "Python 3",
   "language": "python",
   "name": "python3"
  },
  "language_info": {
   "codemirror_mode": {
    "name": "ipython",
    "version": 3
   },
   "file_extension": ".py",
   "mimetype": "text/x-python",
   "name": "python",
   "nbconvert_exporter": "python",
   "pygments_lexer": "ipython3",
   "version": "3.6.9"
  }
 },
 "nbformat": 4,
 "nbformat_minor": 2
}
